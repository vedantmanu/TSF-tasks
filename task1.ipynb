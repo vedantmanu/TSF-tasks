{
 "cells": [
  {
   "cell_type": "markdown",
   "id": "1c823df7",
   "metadata": {},
   "source": [
    "## Author - VEDANT MANU"
   ]
  },
  {
   "cell_type": "markdown",
   "id": "bd5fda28",
   "metadata": {},
   "source": [
    "## TASK 1 - Score prediction using Supervised ML\n"
   ]
  },
  {
   "cell_type": "markdown",
   "id": "561106ad",
   "metadata": {},
   "source": [
    "### The aim of this task is to predict the percentage of a student based on the number of study hours using a simple linear regression model. The library used is python's scikit learn."
   ]
  },
  {
   "cell_type": "code",
   "execution_count": 77,
   "id": "701fe352",
   "metadata": {},
   "outputs": [],
   "source": [
    "#importing the required modules\n",
    "import pandas as pd\n",
    "import numpy as np\n",
    "import matplotlib.pyplot as plt\n",
    "%matplotlib inline\n",
    "from sklearn.model_selection import train_test_split \n",
    "from sklearn.linear_model import LinearRegression \n"
   ]
  },
  {
   "cell_type": "code",
   "execution_count": 78,
   "id": "ed18dc17",
   "metadata": {},
   "outputs": [
    {
     "data": {
      "text/plain": [
       "Hours     0\n",
       "Scores    0\n",
       "dtype: int64"
      ]
     },
     "execution_count": 78,
     "metadata": {},
     "output_type": "execute_result"
    }
   ],
   "source": [
    "#loading data\n",
    "url = \"http://bit.ly/w-data\"\n",
    "data = pd.read_csv(url)\n",
    "#checking for null values ( there aren't any )\n",
    "data.isna().sum()"
   ]
  },
  {
   "cell_type": "code",
   "execution_count": 79,
   "id": "76646726",
   "metadata": {},
   "outputs": [
    {
     "data": {
      "text/html": [
       "<div>\n",
       "<style scoped>\n",
       "    .dataframe tbody tr th:only-of-type {\n",
       "        vertical-align: middle;\n",
       "    }\n",
       "\n",
       "    .dataframe tbody tr th {\n",
       "        vertical-align: top;\n",
       "    }\n",
       "\n",
       "    .dataframe thead th {\n",
       "        text-align: right;\n",
       "    }\n",
       "</style>\n",
       "<table border=\"1\" class=\"dataframe\">\n",
       "  <thead>\n",
       "    <tr style=\"text-align: right;\">\n",
       "      <th></th>\n",
       "      <th>Hours</th>\n",
       "      <th>Scores</th>\n",
       "    </tr>\n",
       "  </thead>\n",
       "  <tbody>\n",
       "    <tr>\n",
       "      <th>count</th>\n",
       "      <td>25.000000</td>\n",
       "      <td>25.000000</td>\n",
       "    </tr>\n",
       "    <tr>\n",
       "      <th>mean</th>\n",
       "      <td>5.012000</td>\n",
       "      <td>51.480000</td>\n",
       "    </tr>\n",
       "    <tr>\n",
       "      <th>std</th>\n",
       "      <td>2.525094</td>\n",
       "      <td>25.286887</td>\n",
       "    </tr>\n",
       "    <tr>\n",
       "      <th>min</th>\n",
       "      <td>1.100000</td>\n",
       "      <td>17.000000</td>\n",
       "    </tr>\n",
       "    <tr>\n",
       "      <th>25%</th>\n",
       "      <td>2.700000</td>\n",
       "      <td>30.000000</td>\n",
       "    </tr>\n",
       "    <tr>\n",
       "      <th>50%</th>\n",
       "      <td>4.800000</td>\n",
       "      <td>47.000000</td>\n",
       "    </tr>\n",
       "    <tr>\n",
       "      <th>75%</th>\n",
       "      <td>7.400000</td>\n",
       "      <td>75.000000</td>\n",
       "    </tr>\n",
       "    <tr>\n",
       "      <th>max</th>\n",
       "      <td>9.200000</td>\n",
       "      <td>95.000000</td>\n",
       "    </tr>\n",
       "  </tbody>\n",
       "</table>\n",
       "</div>"
      ],
      "text/plain": [
       "           Hours     Scores\n",
       "count  25.000000  25.000000\n",
       "mean    5.012000  51.480000\n",
       "std     2.525094  25.286887\n",
       "min     1.100000  17.000000\n",
       "25%     2.700000  30.000000\n",
       "50%     4.800000  47.000000\n",
       "75%     7.400000  75.000000\n",
       "max     9.200000  95.000000"
      ]
     },
     "execution_count": 79,
     "metadata": {},
     "output_type": "execute_result"
    }
   ],
   "source": [
    "#describing the data using the describe function\n",
    "data.describe()"
   ]
  },
  {
   "cell_type": "code",
   "execution_count": 80,
   "id": "cfa3679a",
   "metadata": {},
   "outputs": [
    {
     "data": {
      "image/png": "[encoded data removed]",
      "text/plain": [
       "<Figure size 432x288 with 1 Axes>"
      ]
     },
     "metadata": {
      "needs_background": "light"
     },
     "output_type": "display_data"
    }
   ],
   "source": [
    "data.plot(x='Hours', y='Scores', style='*')  \n",
    "plt.title('Hours vs Percentage')  \n",
    "plt.xlabel('Hours Studied')  \n",
    "plt.ylabel('Percentage Score')  \n",
    "plt.show()"
   ]
  },
  {
   "cell_type": "markdown",
   "id": "e303888b",
   "metadata": {},
   "source": [
    "### It is safe to assume that the following graph follows a linear pattern hence a linear machine learning model should be used"
   ]
  },
  {
   "cell_type": "code",
   "execution_count": 81,
   "id": "5e53a939",
   "metadata": {},
   "outputs": [],
   "source": [
    "#preparing the data for linear model\n",
    "X = data.iloc[:,0:1].values  #1st column of data is X\n",
    "Y = data.iloc[:,1].values  #2nd column of data is \n",
    "X_train, X_test, Y_train, Y_test = train_test_split(X, Y, test_size=0.2, random_state=0)"
   ]
  },
  {
   "cell_type": "markdown",
   "id": "781507c9",
   "metadata": {},
   "source": [
    "## Training the algorithm"
   ]
  },
  {
   "cell_type": "code",
   "execution_count": 83,
   "id": "a38b2994",
   "metadata": {},
   "outputs": [
    {
     "name": "stdout",
     "output_type": "stream",
     "text": [
      "9.910656480642238 2.018160041434669\n"
     ]
    }
   ],
   "source": [
    "# the next step is to train the algorithm using the training set which finds the best value of coefficient and intercept\n",
    "model=LinearRegression()\n",
    "\n",
    "#calling fit method which finds the best value for intercept and slope for best fit line\n",
    "model.fit(X_train, Y_train) \n",
    "print(model.coef_[0],model.intercept_)\n",
    "# the training is now complete"
   ]
  },
  {
   "cell_type": "markdown",
   "id": "134a90f8",
   "metadata": {},
   "source": [
    "## Plotting the regression line."
   ]
  },
  {
   "cell_type": "code",
   "execution_count": 95,
   "id": "d6ccae46",
   "metadata": {},
   "outputs": [
    {
     "data": {
      "image/png": "[encoded data removed]",
      "text/plain": [
       "<Figure size 432x288 with 1 Axes>"
      ]
     },
     "metadata": {
      "needs_background": "light"
     },
     "output_type": "display_data"
    }
   ],
   "source": [
    "# we first write the equation of the line\n",
    "m = model.coef_\n",
    "b = model.intercept_\n",
    "equation = m*X + b\n",
    "\n",
    "# plot function\n",
    "plt.scatter(X_train, Y_train,color=\"blue\",label=\"Training data\",marker = '*',alpha = 0.75)\n",
    "plt.scatter(X_test,Y_test,color=\"red\",label=\"Testing data\",marker = '*',alpha = 0.75)\n",
    "plt.plot(X,equation, label=\"Regression line\")\n",
    "plt.title('Hours vs Percetage score')\n",
    "plt.legend(loc=\"lower right\")\n",
    "plt.xlabel('Hours Studied')  \n",
    "plt.ylabel('Percentage Score') \n",
    "plt.show()"
   ]
  },
  {
   "cell_type": "markdown",
   "id": "af2841e4",
   "metadata": {},
   "source": [
    "## Predicting values and evaluating the model using the test data\n"
   ]
  },
  {
   "cell_type": "code",
   "execution_count": 90,
   "id": "05ec53dc",
   "metadata": {},
   "outputs": [
    {
     "name": "stdout",
     "output_type": "stream",
     "text": [
      "[[1.5]\n",
      " [3.2]\n",
      " [7.4]\n",
      " [2.5]\n",
      " [5.9]]\n"
     ]
    }
   ],
   "source": [
    "#looking at the test data\n",
    "print(X_test)"
   ]
  },
  {
   "cell_type": "code",
   "execution_count": 96,
   "id": "be7c854c",
   "metadata": {},
   "outputs": [
    {
     "name": "stdout",
     "output_type": "stream",
     "text": [
      "   Actual  Predicted\n",
      "0      20  16.884145\n",
      "1      27  33.732261\n",
      "2      69  75.357018\n",
      "3      30  26.794801\n",
      "4      62  60.491033\n"
     ]
    }
   ],
   "source": [
    "# predicitng scores using the test data\n",
    "Y_predicted = model.predict(X_test)\n",
    "\n",
    "#comparing the predicitng scores with actual scores\n",
    "df = pd.DataFrame({'Actual': Y_test, 'Predicted': Y_predicted})  \n",
    "print(df)"
   ]
  },
  {
   "cell_type": "markdown",
   "id": "40c26e4f",
   "metadata": {},
   "source": [
    "## Checking the efficiency and other metrics of the model "
   ]
  },
  {
   "cell_type": "code",
   "execution_count": 102,
   "id": "246877a8",
   "metadata": {},
   "outputs": [
    {
     "name": "stdout",
     "output_type": "stream",
     "text": [
      "Residual standard error = 0.9454906892105355\n"
     ]
    }
   ],
   "source": [
    "from sklearn import metrics  \n",
    "print(\"Residual standard error =\", model.score(X_test,Y_test))\n"
   ]
  },
  {
   "cell_type": "code",
   "execution_count": 98,
   "id": "3da1c59d",
   "metadata": {},
   "outputs": [
    {
     "name": "stdout",
     "output_type": "stream",
     "text": [
      "Percentage score for studying 9.25 hrs/day is  93.69173248737538\n"
     ]
    }
   ],
   "source": [
    "hours=[[9.25]]\n",
    "sol=model.predict(hours)\n",
    "\n",
    "print(\"Percentage score for studying 9.25 hrs/day is \",sol[0])\n"
   ]
  },
  {
   "cell_type": "code",
   "execution_count": null,
   "id": "ae657dd8",
   "metadata": {},
   "outputs": [],
   "source": []
  }
 ],
 "metadata": {
  "kernelspec": {
   "display_name": "Python 3",
   "language": "python",
   "name": "python3"
  },
  "language_info": {
   "codemirror_mode": {
    "name": "ipython",
    "version": 3
   },
   "file_extension": ".py",
   "mimetype": "text/x-python",
   "name": "python",
   "nbconvert_exporter": "python",
   "pygments_lexer": "ipython3",
   "version": "3.8.5"
  }
 },
 "nbformat": 4,
 "nbformat_minor": 5
}
